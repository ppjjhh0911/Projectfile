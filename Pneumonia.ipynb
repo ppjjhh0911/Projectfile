{
 "cells": [
  {
   "cell_type": "markdown",
   "metadata": {},
   "source": [
    "# <실험내용>\n",
    "## 수천명의 환자의 x-ray 영상을 normal/penumonia로 분류하는 것입니다.\n",
    "\n",
    "## 1. 데이터셋을 읽어옵니다"
   ]
  },
  {
   "cell_type": "code",
   "execution_count": 0,
   "metadata": {
    "colab": {
     "base_uri": "https://localhost:8080/",
     "height": 35
    },
    "colab_type": "code",
    "id": "ZT6gsg24zE8o",
    "outputId": "39642787-e573-495e-9528-8c2993859b5b"
   },
   "outputs": [
    {
     "name": "stderr",
     "output_type": "stream",
     "text": [
      "Using TensorFlow backend.\n"
     ]
    }
   ],
   "source": [
    "from keras import layers\n",
    "from keras import models\n",
    "from keras import optimizers\n",
    "from keras.preprocessing.image import ImageDataGenerator\n",
    "import os,shutil\n",
    "#jpg이미지를 넣은 폴더에 자동으로 cats_and_dogs_small 폴더를 생성한다.\n",
    "base_dir = '/gdrive/My Drive/chest_xray'\n",
    "\n",
    "\n",
    "\n",
    "#생성된 cats_and_dogs_small 폴더에 train, validation, test 폴더가 하위 폴더로 생상된다.\n",
    "train_dir = os.path.join(base_dir, 'train')\n",
    "validation_dir = os.path.join(base_dir, 'val')\n",
    "test_dir = os.path.join(base_dir, 'test')\n",
    "\n",
    "train_normal_dir = os.path.join(train_dir, 'NORMAL')\n",
    "train_pneumonia_dir = os.path.join(train_dir, 'PNEUMONIA')\n",
    "\n",
    "validation_normal_dir = os.path.join(validation_dir, 'NORMAL')\n",
    "validation_pneumonias_dir = os.path.join(validation_dir, 'PNEUMONIA')\n",
    "\n",
    "test_norma_dir = os.path.join(test_dir, 'NORMAL')\n",
    "test_pneumonias_dir = os.path.join(test_dir, 'PNEUMONIA')"
   ]
  },
  {
   "cell_type": "markdown",
   "metadata": {},
   "source": [
    "## 2. normal/penumnonia를 분류하기위한 resnet 모델을 사용합니다"
   ]
  },
  {
   "cell_type": "code",
   "execution_count": 0,
   "metadata": {
    "colab": {},
    "colab_type": "code",
    "id": "URHDcI7FzIip"
   },
   "outputs": [],
   "source": [
    "from glob import glob\n",
    "import os\n",
    "import numpy as np\n",
    "import pandas as pd\n",
    "import random\n",
    "from skimage.io import imread\n",
    "\n",
    "import matplotlib.pyplot as plt\n",
    "%matplotlib inline\n",
    "\n",
    "from tensorflow.python.keras.applications import ResNet50\n",
    "from tensorflow.python.keras.applications.resnet50 import preprocess_input, decode_predictions\n",
    "from tensorflow.python.keras.models import Sequential\n",
    "from tensorflow.python.keras.layers import Dense, Flatten, GlobalAveragePooling2D\n",
    "from tensorflow.python.keras.preprocessing.image import ImageDataGenerator, img_to_array, load_img\n",
    "\n",
    "num_classes = 2\n",
    "\n",
    "\n",
    "model = Sequential()\n",
    "model.add(ResNet50(include_top=False, pooling='avg', weights='imagenet'))\n",
    "model.add(Dense(num_classes, activation='softmax'))\n",
    "\n",
    "model.layers[0].trainable = False\n",
    "\n",
    "model.compile(optimizer='sgd', loss='categorical_crossentropy', metrics=['accuracy'])"
   ]
  },
  {
   "cell_type": "markdown",
   "metadata": {},
   "source": [
    "## 3.과적합 및 학습 성능을 올리기 위해 데이터 augmentation을 해줍니다"
   ]
  },
  {
   "cell_type": "code",
   "execution_count": 0,
   "metadata": {
    "colab": {
     "base_uri": "https://localhost:8080/",
     "height": 611
    },
    "colab_type": "code",
    "id": "jlwPdTznzK4T",
    "outputId": "d06b8b0d-fe3a-443b-e1bf-c7cd0ef7f921"
   },
   "outputs": [
    {
     "name": "stdout",
     "output_type": "stream",
     "text": [
      "Found 5216 images belonging to 2 classes.\n",
      "Found 16 images belonging to 2 classes.\n",
      "Found 624 images belonging to 2 classes.\n",
      "Epoch 1/15\n",
      "200/200 [==============================] - 67s 336ms/step - loss: 0.1760 - acc: 0.9315 - val_loss: 1.0003 - val_acc: 0.5625\n",
      "Epoch 2/15\n",
      "200/200 [==============================] - 64s 319ms/step - loss: 0.1666 - acc: 0.9340 - val_loss: 0.1535 - val_acc: 0.9375\n",
      "Epoch 3/15\n",
      "200/200 [==============================] - 64s 318ms/step - loss: 0.1585 - acc: 0.9390 - val_loss: 0.1947 - val_acc: 1.0000\n",
      "Epoch 4/15\n",
      "200/200 [==============================] - 64s 320ms/step - loss: 0.1364 - acc: 0.9485 - val_loss: 0.1907 - val_acc: 1.0000\n",
      "Epoch 5/15\n",
      "200/200 [==============================] - 64s 322ms/step - loss: 0.1556 - acc: 0.9405 - val_loss: 0.1829 - val_acc: 0.9375\n",
      "Epoch 6/15\n",
      "200/200 [==============================] - 65s 325ms/step - loss: 0.1338 - acc: 0.9495 - val_loss: 0.1641 - val_acc: 0.9375\n",
      "Epoch 7/15\n",
      "200/200 [==============================] - 64s 321ms/step - loss: 0.1364 - acc: 0.9430 - val_loss: 0.1674 - val_acc: 0.9375\n",
      "Epoch 8/15\n",
      "200/200 [==============================] - 65s 326ms/step - loss: 0.1386 - acc: 0.9420 - val_loss: 0.1444 - val_acc: 0.9375\n",
      "Epoch 9/15\n",
      "200/200 [==============================] - 66s 328ms/step - loss: 0.1261 - acc: 0.9520 - val_loss: 0.2362 - val_acc: 0.8750\n",
      "Epoch 10/15\n",
      "200/200 [==============================] - 64s 320ms/step - loss: 0.1344 - acc: 0.9507 - val_loss: 0.1227 - val_acc: 1.0000\n",
      "Epoch 11/15\n",
      "200/200 [==============================] - 64s 320ms/step - loss: 0.1197 - acc: 0.9535 - val_loss: 0.1090 - val_acc: 1.0000\n",
      "Epoch 12/15\n",
      "200/200 [==============================] - 65s 323ms/step - loss: 0.1145 - acc: 0.9550 - val_loss: 0.1865 - val_acc: 0.9375\n",
      "Epoch 13/15\n",
      "200/200 [==============================] - 64s 321ms/step - loss: 0.1185 - acc: 0.9525 - val_loss: 0.1223 - val_acc: 0.9375\n",
      "Epoch 14/15\n",
      "200/200 [==============================] - 64s 321ms/step - loss: 0.1252 - acc: 0.9555 - val_loss: 0.1082 - val_acc: 1.0000\n",
      "Epoch 15/15\n",
      "200/200 [==============================] - 64s 321ms/step - loss: 0.1006 - acc: 0.9595 - val_loss: 0.1745 - val_acc: 0.9375\n"
     ]
    }
   ],
   "source": [
    "data_generator_with_aug = ImageDataGenerator(preprocessing_function=preprocess_input,\n",
    "                                             horizontal_flip = True,\n",
    "                                             width_shift_range = 0.2,\n",
    "                                             height_shift_range = 0.2,\n",
    "                                             shear_range = 0.2,\n",
    "                                             zoom_range = 0.2\n",
    "                                            )\n",
    "            \n",
    "data_generator_no_aug = ImageDataGenerator(preprocessing_function=preprocess_input            \n",
    "                                          )\n",
    "\n",
    "train_generator = data_generator_with_aug.flow_from_directory(\n",
    "       directory = '/gdrive/My Drive/chest_xray/train/',\n",
    "       target_size = (256, 256),\n",
    "       batch_size = 10,\n",
    "       class_mode = 'categorical')\n",
    "\n",
    "validation_generator = data_generator_no_aug.flow_from_directory(\n",
    "       directory = '/gdrive/My Drive/chest_xray/val/',\n",
    "       target_size = (256, 256),\n",
    "       class_mode = 'categorical')\n",
    "\n",
    "test_generator = data_generator_no_aug.flow_from_directory(\n",
    "       directory = '/gdrive/My Drive/chest_xray/test/',\n",
    "       target_size = (256, 256),\n",
    "       batch_size = 1,\n",
    "       class_mode = 'categorical')\n",
    "\n",
    "history=model.fit_generator(\n",
    "       train_generator, # specify where model gets training data\n",
    "       epochs = 15,\n",
    "       steps_per_epoch=200,\n",
    "       validation_data=validation_generator) # specify where model gets validation data\n"
   ]
  },
  {
   "cell_type": "markdown",
   "metadata": {},
   "source": [
    "## 4.학습 결과를 곡선으로 나타내줍니다."
   ]
  },
  {
   "cell_type": "code",
   "execution_count": 0,
   "metadata": {
    "colab": {
     "base_uri": "https://localhost:8080/",
     "height": 543
    },
    "colab_type": "code",
    "id": "yvQ6f0QxzPQf",
    "outputId": "1ada6856-2968-4b89-b9a2-9270f427dc31"
   },
   "outputs": [
    {
     "data": {
      "image/png": "[encoded data removed]",
      "text/plain": [
       "<Figure size 432x288 with 1 Axes>"
      ]
     },
     "metadata": {
      "tags": []
     },
     "output_type": "display_data"
    },
    {
     "data": {
      "image/png": "[encoded data removed]",
      "text/plain": [
       "<Figure size 432x288 with 1 Axes>"
      ]
     },
     "metadata": {
      "tags": []
     },
     "output_type": "display_data"
    }
   ],
   "source": [
    "import matplotlib.pyplot as plt\n",
    "acc = history.history['acc']\n",
    "val_acc = history.history['val_acc']\n",
    "loss = history.history['loss']\n",
    "val_loss = history.history['val_loss']\n",
    "epochs = range(1, len(acc) + 1)\n",
    "plt.plot(epochs, acc, 'blue', label='Training acc')\n",
    "plt.plot(epochs, val_acc, 'red', label='Validation acc')\n",
    "plt.title('Training and validation accuracy')\n",
    "plt.legend()\n",
    "plt.figure()\n",
    "plt.plot(epochs, loss, 'blue', label='Training loss')\n",
    "plt.plot(epochs, val_loss, 'red', label='Validation loss')\n",
    "plt.title('Training and validation loss')\n",
    "plt.legend()\n",
    "plt.show()"
   ]
  },
  {
   "cell_type": "markdown",
   "metadata": {},
   "source": [
    "## 5.testset에서도 모델이 잘 작동하는지 확인해줍니다"
   ]
  },
  {
   "cell_type": "code",
   "execution_count": 0,
   "metadata": {
    "colab": {
     "base_uri": "https://localhost:8080/",
     "height": 53
    },
    "colab_type": "code",
    "id": "bONlHK_r14I2",
    "outputId": "2297dd6b-3eb4-472a-985f-71c928a3db4e"
   },
   "outputs": [
    {
     "name": "stdout",
     "output_type": "stream",
     "text": [
      "-- Evaluate --\n",
      "acc: 84.00%\n"
     ]
    }
   ],
   "source": [
    "from tensorflow.python.keras.models import Sequential\n",
    "from keras.models import load_model\n",
    "\n",
    "print(\"-- Evaluate --\")\n",
    "\n",
    "scores = model.evaluate_generator(\n",
    "            test_generator, \n",
    "            steps = 100)\n",
    "\n",
    "print(\"%s: %.2f%%\" %(model.metrics_names[1], scores[1]*100))"
   ]
  },
  {
   "cell_type": "markdown",
   "metadata": {},
   "source": [
    "## 6. testset을 normal/pneumonia로  예측 해줍니다."
   ]
  },
  {
   "cell_type": "code",
   "execution_count": 0,
   "metadata": {
    "colab": {
     "base_uri": "https://localhost:8080/",
     "height": 35
    },
    "colab_type": "code",
    "id": "RZ6MQLOR17Ce",
    "outputId": "72600f5e-b5b3-4f2e-9e39-3e2f28ad286f"
   },
   "outputs": [
    {
     "name": "stdout",
     "output_type": "stream",
     "text": [
      "-- Predict --\n"
     ]
    }
   ],
   "source": [
    "# 모델 예측하기\n",
    "print(\"-- Predict --\")\n",
    "\n",
    "output = model.predict_generator(test_generator)\n",
    "\n",
    "y_pred = np.argmax(output, axis=1)\n",
    "\n",
    "\n"
   ]
  },
  {
   "cell_type": "code",
   "execution_count": 0,
   "metadata": {
    "colab": {
     "base_uri": "https://localhost:8080/",
     "height": 35
    },
    "colab_type": "code",
    "id": "m3DE8og77jVF",
    "outputId": "b64cbda2-a47a-48cd-be29-fd50bc6e0fd5"
   },
   "outputs": [
    {
     "data": {
      "text/plain": [
       "624"
      ]
     },
     "execution_count": 19,
     "metadata": {
      "tags": []
     },
     "output_type": "execute_result"
    }
   ],
   "source": [
    "len(test_generator.classes)"
   ]
  },
  {
   "cell_type": "markdown",
   "metadata": {},
   "source": [
    "## 7.예측한 testset을 roc곡선으로 나타내줍니다."
   ]
  },
  {
   "cell_type": "code",
   "execution_count": 0,
   "metadata": {
    "colab": {
     "base_uri": "https://localhost:8080/",
     "height": 719
    },
    "colab_type": "code",
    "id": "msCobFKk1_qm",
    "outputId": "3621f4db-72ee-40f3-9c6f-d2d36e4da336"
   },
   "outputs": [
    {
     "data": {
      "image/png": "[encoded data removed]",
      "text/plain": [
       "<Figure size 864x864 with 1 Axes>"
      ]
     },
     "metadata": {
      "tags": []
     },
     "output_type": "display_data"
    }
   ],
   "source": [
    "\n",
    "import matplotlib.pyplot as plt\n",
    "%matplotlib inline\n",
    "from mlxtend.plotting import plot_confusion_matrix\n",
    "\n",
    "# Get the confusion matrix\n",
    "\n",
    "CM = confusion_matrix(test_generator.classes, y_pred)\n",
    "fig, ax = plot_confusion_matrix(conf_mat=CM ,  figsize=(12, 12))\n",
    "plt.xticks(range(2), ['Normal', 'Pneumonia'], fontsize=16)\n",
    "plt.yticks(range(2), ['Normal', 'Pneumonia'], fontsize=16)\n",
    "plt.show()\n",
    "\n"
   ]
  },
  {
   "cell_type": "code",
   "execution_count": 0,
   "metadata": {
    "colab": {},
    "colab_type": "code",
    "id": "Xg0jR8SjfEP6"
   },
   "outputs": [],
   "source": []
  }
 ],
 "metadata": {
  "accelerator": "GPU",
  "colab": {
   "collapsed_sections": [],
   "name": "roc2.ipynb",
   "provenance": [],
   "version": "0.3.2"
  },
  "kernelspec": {
   "display_name": "Python 3",
   "language": "python",
   "name": "python3"
  },
  "language_info": {
   "codemirror_mode": {
    "name": "ipython",
    "version": 3
   },
   "file_extension": ".py",
   "mimetype": "text/x-python",
   "name": "python",
   "nbconvert_exporter": "python",
   "pygments_lexer": "ipython3",
   "version": "3.6.7"
  }
 },
 "nbformat": 4,
 "nbformat_minor": 1
}
