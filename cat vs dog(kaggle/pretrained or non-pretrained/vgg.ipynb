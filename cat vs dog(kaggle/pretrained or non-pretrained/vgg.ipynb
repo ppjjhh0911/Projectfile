{
 "cells": [
  {
   "cell_type": "markdown",
   "metadata": {},
   "source": [
    "1. ****학습에 필요한  module을 불러와준다****"
   ]
  },
  {
   "cell_type": "code",
   "execution_count": 1,
   "metadata": {
    "_cell_guid": "b1076dfc-b9ad-4769-8c92-a6c4dae69d19",
    "_uuid": "8f2839f25d086af736a60e9eeb907d3b93b6e0e5"
   },
   "outputs": [
    {
     "name": "stderr",
     "output_type": "stream",
     "text": [
      "Using TensorFlow backend.\n"
     ]
    },
    {
     "name": "stdout",
     "output_type": "stream",
     "text": [
      "['test', 'sample_submission.csv', 'train']\n"
     ]
    }
   ],
   "source": [
    "import numpy as np # linear algebra\n",
    "import pandas as pd # data processing, CSV file I/O (e.g. pd.read_csv)\n",
    "import cv2\n",
    "import matplotlib.pyplot as plt\n",
    "import seaborn as sns\n",
    "from sklearn.metrics import confusion_matrix\n",
    "import itertools\n",
    "import random\n",
    "import os,shutil\n",
    "from sklearn.model_selection import train_test_split\n",
    "from keras import applications\n",
    "from keras import layers\n",
    "from keras import models\n",
    "from keras import backend as K\n",
    "K.set_image_dim_ordering('th')\n",
    "K.set_image_data_format('channels_last')\n",
    "from keras import layers\n",
    "from keras import models\n",
    "from keras import optimizers\n",
    "from keras.layers import GlobalAveragePooling2D\n",
    "import matplotlib.pyplot as plt\n",
    "%matplotlib inline\n",
    "from keras import Sequential\n",
    "from keras.layers import *\n",
    "import keras.optimizers as optimizers\n",
    "from keras.preprocessing.image import ImageDataGenerator\n",
    "from keras.callbacks import *\n",
    "import keras.backend as K\n",
    "from tensorflow.python.keras.models import Sequential\n",
    "from keras.models import load_model\n",
    "from mlxtend.plotting import plot_confusion_matrix\n",
    "\n",
    "src_path=\"../input\"\n",
    "\n",
    "print(os.listdir(src_path))\n",
    "\n",
    "#constant value\n",
    "VALID_SPIT=0.2\n",
    "IMAGE_SIZE=80\n",
    "BATCH_SIZE=20"
   ]
  },
  {
   "cell_type": "markdown",
   "metadata": {},
   "source": [
    "2. train폴던안에는 개고양이가 랜덤으로 들어가있는 25000개의 이미지가 들어있는데, 이미지 앞글자가 cat인경우는 0 dog일경우는 1로 설정하여 \n",
    "정답레이블을 만들어주고 ,그에맞는 이미지를 나누어준다"
   ]
  },
  {
   "cell_type": "code",
   "execution_count": 2,
   "metadata": {
    "_cell_guid": "79c7e3d0-c299-4dcb-8224-4455121ee9b0",
    "_uuid": "d629ff2d2480ee46fbb7e2d37f6b5fab8052498a"
   },
   "outputs": [
    {
     "name": "stdout",
     "output_type": "stream",
     "text": [
      "1000  image data retreived\n",
      "2000  image data retreived\n",
      "3000  image data retreived\n",
      "4000  image data retreived\n",
      "5000  image data retreived\n",
      "6000  image data retreived\n",
      "7000  image data retreived\n",
      "8000  image data retreived\n",
      "9000  image data retreived\n",
      "10000  image data retreived\n",
      "11000  image data retreived\n",
      "12000  image data retreived\n",
      "13000  image data retreived\n",
      "14000  image data retreived\n",
      "15000  image data retreived\n",
      "16000  image data retreived\n",
      "17000  image data retreived\n",
      "18000  image data retreived\n",
      "19000  image data retreived\n",
      "20000  image data retreived\n",
      "21000  image data retreived\n",
      "22000  image data retreived\n",
      "23000  image data retreived\n",
      "24000  image data retreived\n",
      "25000  image data retreived\n",
      "(25000, 80, 80, 3)\n",
      "(25000,)\n"
     ]
    }
   ],
   "source": [
    "label=[]\n",
    "data=[]\n",
    "counter=0\n",
    "path=\"../input/train/train\"\n",
    "for file in os.listdir(path):\n",
    "    image_data=cv2.imread(os.path.join(path,file), cv2.IMREAD_COLOR)\n",
    "    image_data=cv2.resize(image_data,(IMAGE_SIZE,IMAGE_SIZE))\n",
    "    if file.startswith(\"cat\"):\n",
    "        label.append(0)\n",
    "    elif file.startswith(\"dog\"):\n",
    "        label.append(1)\n",
    "    try:\n",
    "        data.append(image_data/255)\n",
    "    except:\n",
    "        label=label[:len(label)-1]\n",
    "    counter+=1\n",
    "    if counter%1000==0:\n",
    "        print (counter,\" image data retreived\")\n",
    "\n",
    "data=np.array(data)\n",
    "data=data.reshape((data.shape)[0],(data.shape)[1],(data.shape)[2],3)\n",
    "label=np.array(label)\n",
    "print (data.shape)\n",
    "print (label.shape)"
   ]
  },
  {
   "cell_type": "markdown",
   "metadata": {},
   "source": [
    "train data 20%를 validation 데이터로 쓴다"
   ]
  },
  {
   "cell_type": "code",
   "execution_count": 3,
   "metadata": {},
   "outputs": [
    {
     "name": "stdout",
     "output_type": "stream",
     "text": [
      "(20000, 80, 80, 3)\n",
      "(20000,)\n",
      "(5000, 80, 80, 3)\n",
      "(5000,)\n"
     ]
    }
   ],
   "source": [
    "train_data, valid_data, train_label, valid_label = train_test_split(\n",
    "    data, label, test_size=0.2, random_state=42)\n",
    "print(train_data.shape)\n",
    "print(train_label.shape)\n",
    "print(valid_data.shape)\n",
    "print(valid_label.shape)"
   ]
  },
  {
   "cell_type": "markdown",
   "metadata": {},
   "source": [
    "1. weoimagenet으로 pretrain된 VGG 모델을 불러와준다\n",
    "    설정:include_top:False\n",
    "        input_shape=80x80x3(이미지)"
   ]
  },
  {
   "cell_type": "code",
   "execution_count": 4,
   "metadata": {},
   "outputs": [
    {
     "name": "stdout",
     "output_type": "stream",
     "text": [
      "WARNING:tensorflow:From /opt/conda/lib/python3.6/site-packages/tensorflow/python/framework/op_def_library.py:263: colocate_with (from tensorflow.python.framework.ops) is deprecated and will be removed in a future version.\n",
      "Instructions for updating:\n",
      "Colocations handled automatically by placer.\n",
      "Downloading data from https://github.com/fchollet/deep-learning-models/releases/download/v0.1/vgg19_weights_tf_dim_ordering_tf_kernels_notop.h5\n",
      "80142336/80134624 [==============================] - 2s 0us/step\n",
      "_________________________________________________________________\n",
      "Layer (type)                 Output Shape              Param #   \n",
      "=================================================================\n",
      "input_1 (InputLayer)         (None, 80, 80, 3)         0         \n",
      "_________________________________________________________________\n",
      "block1_conv1 (Conv2D)        (None, 80, 80, 64)        1792      \n",
      "_________________________________________________________________\n",
      "block1_conv2 (Conv2D)        (None, 80, 80, 64)        36928     \n",
      "_________________________________________________________________\n",
      "block1_pool (MaxPooling2D)   (None, 40, 40, 64)        0         \n",
      "_________________________________________________________________\n",
      "block2_conv1 (Conv2D)        (None, 40, 40, 128)       73856     \n",
      "_________________________________________________________________\n",
      "block2_conv2 (Conv2D)        (None, 40, 40, 128)       147584    \n",
      "_________________________________________________________________\n",
      "block2_pool (MaxPooling2D)   (None, 20, 20, 128)       0         \n",
      "_________________________________________________________________\n",
      "block3_conv1 (Conv2D)        (None, 20, 20, 256)       295168    \n",
      "_________________________________________________________________\n",
      "block3_conv2 (Conv2D)        (None, 20, 20, 256)       590080    \n",
      "_________________________________________________________________\n",
      "block3_conv3 (Conv2D)        (None, 20, 20, 256)       590080    \n",
      "_________________________________________________________________\n",
      "block3_conv4 (Conv2D)        (None, 20, 20, 256)       590080    \n",
      "_________________________________________________________________\n",
      "block3_pool (MaxPooling2D)   (None, 10, 10, 256)       0         \n",
      "_________________________________________________________________\n",
      "block4_conv1 (Conv2D)        (None, 10, 10, 512)       1180160   \n",
      "_________________________________________________________________\n",
      "block4_conv2 (Conv2D)        (None, 10, 10, 512)       2359808   \n",
      "_________________________________________________________________\n",
      "block4_conv3 (Conv2D)        (None, 10, 10, 512)       2359808   \n",
      "_________________________________________________________________\n",
      "block4_conv4 (Conv2D)        (None, 10, 10, 512)       2359808   \n",
      "_________________________________________________________________\n",
      "block4_pool (MaxPooling2D)   (None, 5, 5, 512)         0         \n",
      "_________________________________________________________________\n",
      "block5_conv1 (Conv2D)        (None, 5, 5, 512)         2359808   \n",
      "_________________________________________________________________\n",
      "block5_conv2 (Conv2D)        (None, 5, 5, 512)         2359808   \n",
      "_________________________________________________________________\n",
      "block5_conv3 (Conv2D)        (None, 5, 5, 512)         2359808   \n",
      "_________________________________________________________________\n",
      "block5_conv4 (Conv2D)        (None, 5, 5, 512)         2359808   \n",
      "_________________________________________________________________\n",
      "block5_pool (MaxPooling2D)   (None, 2, 2, 512)         0         \n",
      "=================================================================\n",
      "Total params: 20,024,384\n",
      "Trainable params: 20,024,384\n",
      "Non-trainable params: 0\n",
      "_________________________________________________________________\n"
     ]
    }
   ],
   "source": [
    "vgg_model = applications.VGG19(weights='imagenet',\n",
    "                               include_top=False,\n",
    "                               input_shape=(80, 80, 3))\n",
    "\n",
    "vgg_model.summary()"
   ]
  },
  {
   "cell_type": "code",
   "execution_count": 5,
   "metadata": {},
   "outputs": [],
   "source": [
    "model = models.Sequential()\n",
    "model.add(vgg_model)\n",
    "model.add(layers.Flatten())\n",
    "model.add(layers.Dense(256, activation  = 'relu'))\n",
    "model.add(layers.Dense(1, activation = 'sigmoid'))"
   ]
  },
  {
   "cell_type": "code",
   "execution_count": 6,
   "metadata": {},
   "outputs": [
    {
     "name": "stdout",
     "output_type": "stream",
     "text": [
      "_________________________________________________________________\n",
      "Layer (type)                 Output Shape              Param #   \n",
      "=================================================================\n",
      "vgg19 (Model)                (None, 2, 2, 512)         20024384  \n",
      "_________________________________________________________________\n",
      "flatten_1 (Flatten)          (None, 2048)              0         \n",
      "_________________________________________________________________\n",
      "dense_1 (Dense)              (None, 256)               524544    \n",
      "_________________________________________________________________\n",
      "dense_2 (Dense)              (None, 1)                 257       \n",
      "=================================================================\n",
      "Total params: 20,549,185\n",
      "Trainable params: 20,549,185\n",
      "Non-trainable params: 0\n",
      "_________________________________________________________________\n"
     ]
    }
   ],
   "source": [
    "model.summary()"
   ]
  },
  {
   "cell_type": "markdown",
   "metadata": {},
   "source": [
    "고양이 0 , 개가 1인 이진분류이기 때문에 loss는 binary_crossentropy를 사용해줍니다."
   ]
  },
  {
   "cell_type": "code",
   "execution_count": 7,
   "metadata": {},
   "outputs": [],
   "source": [
    "model.compile(loss='binary_crossentropy',optimizer=optimizers.adam(lr=1e-4),metrics=['acc'])"
   ]
  },
  {
   "cell_type": "markdown",
   "metadata": {},
   "source": [
    "학습을 시켜줍니다"
   ]
  },
  {
   "cell_type": "code",
   "execution_count": 8,
   "metadata": {},
   "outputs": [
    {
     "name": "stdout",
     "output_type": "stream",
     "text": [
      "WARNING:tensorflow:From /opt/conda/lib/python3.6/site-packages/tensorflow/python/ops/math_ops.py:3066: to_int32 (from tensorflow.python.ops.math_ops) is deprecated and will be removed in a future version.\n",
      "Instructions for updating:\n",
      "Use tf.cast instead.\n",
      "Train on 20000 samples, validate on 5000 samples\n",
      "Epoch 1/20\n",
      "20000/20000 [==============================] - 59s 3ms/step - loss: 0.3780 - acc: 0.8128 - val_loss: 0.2845 - val_acc: 0.8882\n",
      "Epoch 2/20\n",
      "20000/20000 [==============================] - 55s 3ms/step - loss: 0.1910 - acc: 0.9232 - val_loss: 0.1787 - val_acc: 0.9268\n",
      "Epoch 3/20\n",
      "20000/20000 [==============================] - 55s 3ms/step - loss: 0.1331 - acc: 0.9480 - val_loss: 0.1361 - val_acc: 0.9416\n",
      "Epoch 4/20\n",
      "20000/20000 [==============================] - 55s 3ms/step - loss: 0.0964 - acc: 0.9627 - val_loss: 0.1425 - val_acc: 0.9440\n",
      "Epoch 5/20\n",
      "20000/20000 [==============================] - 54s 3ms/step - loss: 0.0777 - acc: 0.9701 - val_loss: 0.1569 - val_acc: 0.9404\n",
      "Epoch 6/20\n",
      "20000/20000 [==============================] - 55s 3ms/step - loss: 0.0636 - acc: 0.9772 - val_loss: 0.1700 - val_acc: 0.9430\n",
      "Epoch 7/20\n",
      "18280/20000 [==========================>...] - ETA: 4s - loss: 0.0419 - acc: 0.9850"
     ]
    }
   ],
   "source": [
    "train_history=model.fit(train_data,train_label,validation_data=(valid_data,valid_label),epochs=20,batch_size=BATCH_SIZE)"
   ]
  },
  {
   "cell_type": "markdown",
   "metadata": {},
   "source": [
    "학습한 결과입니다"
   ]
  },
  {
   "cell_type": "code",
   "execution_count": 9,
   "metadata": {},
   "outputs": [
    {
     "data": {
      "image/png": "[encoded data removed]",
      "text/plain": [
       "<Figure size 432x288 with 1 Axes>"
      ]
     },
     "metadata": {},
     "output_type": "display_data"
    },
    {
     "data": {
      "image/png": "[encoded data removed]",
      "text/plain": [
       "<Figure size 432x288 with 1 Axes>"
      ]
     },
     "metadata": {},
     "output_type": "display_data"
    }
   ],
   "source": [
    "acc = train_history.history['acc']\n",
    "val_acc = train_history.history['val_acc']\n",
    "loss = train_history.history['loss']\n",
    "val_loss = train_history.history['val_loss']\n",
    "epochs = range(1, len(acc) + 1)\n",
    "plt.plot(epochs, acc, 'blue', label='Training acc')\n",
    "plt.plot(epochs, val_acc, 'red', label='Validation acc')\n",
    "plt.title('Training and validation accuracy')\n",
    "plt.legend()\n",
    "plt.figure()\n",
    "plt.plot(epochs, loss, 'blue', label='Training loss')\n",
    "plt.plot(epochs, val_loss, 'red', label='Validation loss')\n",
    "plt.title('Training and validation loss')\n",
    "plt.legend()\n",
    "plt.show()"
   ]
  },
  {
   "cell_type": "markdown",
   "metadata": {},
   "source": [
    "학습이 잘됐나 안됐나 확인을하기위해 model_predict를 해줍니다."
   ]
  },
  {
   "cell_type": "code",
   "execution_count": 10,
   "metadata": {},
   "outputs": [],
   "source": [
    "Y_pred = model.predict(valid_data)\n",
    "predicted_label=np.round(Y_pred,decimals=2)"
   ]
  },
  {
   "cell_type": "code",
   "execution_count": 11,
   "metadata": {},
   "outputs": [
    {
     "data": {
      "image/png": "[encoded data removed]",
      "text/plain": [
       "<Figure size 864x864 with 1 Axes>"
      ]
     },
     "metadata": {},
     "output_type": "display_data"
    }
   ],
   "source": [
    "import matplotlib.pyplot as plt\n",
    "%matplotlib inline\n",
    "from mlxtend.plotting import plot_confusion_matrix\n",
    "\n",
    "# Get the confusion matrix\n",
    "\n",
    "CM = confusion_matrix(valid_label, Y_pred.round())\n",
    "fig, ax = plot_confusion_matrix(conf_mat=CM ,  figsize=(12, 12))\n",
    "plt.xticks(range(2), ['Cat', 'Dog'], fontsize=16)\n",
    "plt.yticks(range(2), ['Cat', 'Dog'], fontsize=16)\n",
    "plt.show()"
   ]
  },
  {
   "cell_type": "code",
   "execution_count": 12,
   "metadata": {},
   "outputs": [],
   "source": []
  }
 ],
 "metadata": {
  "kernelspec": {
   "display_name": "Python 3",
   "language": "python",
   "name": "python3"
  },
  "language_info": {
   "codemirror_mode": {
    "name": "ipython",
    "version": 3
   },
   "file_extension": ".py",
   "mimetype": "text/x-python",
   "name": "python",
   "nbconvert_exporter": "python",
   "pygments_lexer": "ipython3",
   "version": "3.6.4"
  }
 },
 "nbformat": 4,
 "nbformat_minor": 1
}
